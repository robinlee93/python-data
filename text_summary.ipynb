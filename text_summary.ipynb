{
 "cells": [
  {
   "cell_type": "markdown",
   "metadata": {},
   "source": [
    "### Introduction \n",
    "This is a text summary implementation in python. \n",
    "I am writing a function text_summary to obtain summary of an article.\n",
    "\n",
    "I am following the video given by Matt Gallivan.\n",
    "Sources: https://www.youtube.com/watch?v=wM2RBih6Cm0\n",
    "\n",
    "The three text files used are here\n",
    "1. https://s3-us-west-1.amazonaws.com/lehmanlife/apple-cook-letter-fbi.txt\n",
    "2. https://s3-us-west-1.amazonaws.com/lehmanlife/public_int_test.txt\n",
    "3. https://s3-us-west-1.amazonaws.com/lehmanlife/nyt_rich_donor.txt\n"
   ]
  },
  {
   "cell_type": "markdown",
   "metadata": {},
   "source": [
    "### What does it do?\n",
    "This script tries to obtain summary of an article. Here's an example of top 5 important sentences when applied to Tim Cook's open letter to fight against FBI. \n",
    "\n",
    "1. A Dangerous Precedent Rather than asking for legislative action through Congress, the FBI is proposing an unprecedented use of the All Writs Act of 1789 to justify an expansion of its authority.\n",
    "2. All that information needs to be protected from hackers and criminals who want to access it, steal it, and use it without our knowledge or permission.\n",
    "3. And ultimately, we fear that this demand would undermine the very freedoms and liberty our government is meant to protect.\n",
    "4. And while the government may argue that its use would be limited to this case, there is no way to guarantee such control.\n",
    "5. Apple complies with valid subpoenas and search warrants, as we have in the San Bernardino case.\n",
    "\n"
   ]
  },
  {
   "cell_type": "markdown",
   "metadata": {},
   "source": [
    "### Setup "
   ]
  },
  {
   "cell_type": "code",
   "execution_count": 90,
   "metadata": {
    "collapsed": false
   },
   "outputs": [
    {
     "name": "stdout",
     "output_type": "stream",
     "text": [
      "Requirement already satisfied (use --upgrade to upgrade): nltk in /home/robin/anaconda/lib/python2.7/site-packages\n"
     ]
    }
   ],
   "source": [
    "%%sh\n",
    "pip install nltk"
   ]
  },
  {
   "cell_type": "code",
   "execution_count": 91,
   "metadata": {
    "collapsed": true
   },
   "outputs": [],
   "source": [
    "# nltk.download('punkt')\n",
    "\n",
    "from nltk.tokenize import sent_tokenize\n",
    "import nltk\n",
    "import re\n",
    "from math import log\n"
   ]
  },
  {
   "cell_type": "markdown",
   "metadata": {},
   "source": [
    "### Read text file\n",
    "Good review on how to read txt file. "
   ]
  },
  {
   "cell_type": "code",
   "execution_count": 92,
   "metadata": {
    "collapsed": false
   },
   "outputs": [
    {
     "name": "stdout",
     "output_type": "stream",
     "text": [
      "<open file 'public_int_test.txt', mode 'rw' at 0x7fa920847780>\n"
     ]
    }
   ],
   "source": [
    "text = open('public_int_test.txt', 'rw')\n",
    "\n",
    "print text\n"
   ]
  },
  {
   "cell_type": "code",
   "execution_count": 104,
   "metadata": {
    "collapsed": false
   },
   "outputs": [
    {
     "name": "stdout",
     "output_type": "stream",
     "text": [
      "<type 'str'>\n"
     ]
    }
   ],
   "source": [
    "text_string = text.read()\n",
    "print type(text_string)"
   ]
  },
  {
   "cell_type": "markdown",
   "metadata": {},
   "source": [
    "\n",
    "Looks like I was able to read in the text file fine.\n"
   ]
  },
  {
   "cell_type": "markdown",
   "metadata": {},
   "source": [
    "## Main Part\n",
    "There are three component to get text summary in python"
   ]
  },
  {
   "cell_type": "markdown",
   "metadata": {},
   "source": [
    "### 1. Break Text into pieces by each sentence "
   ]
  },
  {
   "cell_type": "code",
   "execution_count": 94,
   "metadata": {
    "collapsed": false
   },
   "outputs": [],
   "source": [
    "def sentences(text):\n",
    "    return sent_tokenize(text)\n",
    "sent = sentences(text_string.decode('utf-8'))"
   ]
  },
  {
   "cell_type": "markdown",
   "metadata": {},
   "source": [
    "#### Encoding matters\n",
    "I had trouble when running sent_tokenize, because of decoding issue. I had to specify utf-8."
   ]
  },
  {
   "cell_type": "markdown",
   "metadata": {},
   "source": [
    "The sent object is a list of sentences. I think a sentence is defined when there's a period, question mark or exclamation mark."
   ]
  },
  {
   "cell_type": "code",
   "execution_count": 95,
   "metadata": {
    "collapsed": false
   },
   "outputs": [
    {
     "name": "stdout",
     "output_type": "stream",
     "text": [
      "<type 'list'>\n",
      "Democrats seize super PAC crown\n",
      "Liberal groups outraise conservative counterparts 2-to-1 during first half of 2013\n",
      "\n",
      "Correction, Sept. 6, 2013, 4:28 p.m.: The historical comparison of receipts for conservative and liberal super PACs has been amended since this story first published after an error was discovered in the data provided to the Center by the Federal Election Commission.\n",
      "----------\n",
      "Democrats have become the kings of super PACs.\n"
     ]
    }
   ],
   "source": [
    "print type(sent)\n",
    "print sent[0]\n",
    "print \"-\"*10\n",
    "print sent[1]"
   ]
  },
  {
   "cell_type": "markdown",
   "metadata": {},
   "source": [
    "Some problem with sent_tokenize is that it does not recognize headline and subheadline as distinct sentences. This should be a concern later on. \n"
   ]
  },
  {
   "cell_type": "markdown",
   "metadata": {},
   "source": [
    "### 2. Connect these pieces in a graph\n",
    "\n",
    "We will use the idea of network. Our goal is to construct a directed graph. Each sentence will be a node. The intensity of links is determined by the similarity of two sentences. The similarity measurement is obtained by counting the number of common words, then normalized by length of the sentences. "
   ]
  },
  {
   "cell_type": "code",
   "execution_count": 96,
   "metadata": {
    "collapsed": false
   },
   "outputs": [
    {
     "data": {
      "text/plain": [
       "(u'Democrats seize super PAC crown\\nLiberal groups outraise conservative counterparts 2-to-1 during first half of 2013\\n\\nCorrection, Sept. 6, 2013, 4:28 p.m.: The historical comparison of receipts for conservative and liberal super PACs has been amended since this story first published after an error was discovered in the data provided to the Center by the Federal Election Commission.',\n",
       " u'Democrats have become the kings of super PACs.',\n",
       " 0.9766417300203694)"
      ]
     },
     "execution_count": 96,
     "metadata": {},
     "output_type": "execute_result"
    }
   ],
   "source": [
    "def common_words(s1, s2):\n",
    "    '''return common words between two sentences'''\n",
    "    '''reference: http://stackoverflow.com/questions/16351744/finding-the-common-words-between-two-text-corpus-in-nltk'''\n",
    "    words1 = s1.lower().split()\n",
    "    words2 = s2.lower().split()\n",
    "    \n",
    "    intersection = set(words1) & set(words2)\n",
    "    return intersection\n",
    "\n",
    "def similarity(s1, s2):\n",
    "    '''return the amount of similarity between two sentences/pieces'''\n",
    "    words1 = s1.lower().split()\n",
    "    words2 = s2.lower().split()\n",
    " \n",
    "    return( len(common_words(s1, s2)) / \n",
    "          (log(len(words1) + log(len(words2) ))))\n",
    "\n",
    "def link(nodes):\n",
    "    '''Return a list of edges connecting the nodes, where the edges are given a \n",
    "    weight based on their similarity'''\n",
    "    return [(start, end, similarity(start, end))\n",
    "                         for start in nodes\n",
    "                         for end in nodes\n",
    "                         if start is not end]\n",
    "\n",
    "edge_link = link(sent)\n",
    "edge_link[0]"
   ]
  },
  {
   "cell_type": "markdown",
   "metadata": {},
   "source": [
    "Looks good!"
   ]
  },
  {
   "cell_type": "markdown",
   "metadata": {},
   "source": [
    "### 3. Rank importance for these links\n",
    "We will use page rank method to find the most important node. We will use *networkx* library to implement this. "
   ]
  },
  {
   "cell_type": "code",
   "execution_count": 97,
   "metadata": {
    "collapsed": false
   },
   "outputs": [
    {
     "name": "stdout",
     "output_type": "stream",
     "text": [
      "Requirement already satisfied (use --upgrade to upgrade): networkx in /home/robin/anaconda/lib/python2.7/site-packages\n"
     ]
    }
   ],
   "source": [
    "%%sh\n",
    "pip install networkx"
   ]
  },
  {
   "cell_type": "code",
   "execution_count": 98,
   "metadata": {
    "collapsed": true
   },
   "outputs": [],
   "source": [
    "import networkx as nx\n",
    "\n",
    "def rank(nodes, edges):\n",
    "    '''return a dictornary containing the scores for each node'''\n",
    "    graph = nx.DiGraph()\n",
    "    graph.add_nodes_from(nodes)\n",
    "    graph.add_weighted_edges_from(edges)\n",
    "    return nx.pagerank(graph)\n",
    "\n",
    "def summarize(text, num_summaries = 3):\n",
    "    '''Create small summaries of a larger text.'''\n",
    "    nodes = sentences(text)\n",
    "    edges = link(nodes)\n",
    "    scores = rank(nodes, edges)\n",
    "    return sorted(scores)[:num_summaries]\n"
   ]
  },
  {
   "cell_type": "code",
   "execution_count": 99,
   "metadata": {
    "collapsed": false
   },
   "outputs": [
    {
     "name": "stdout",
     "output_type": "stream",
     "text": [
      "[u'(It spent $1.4 million on advertisements opposing Republican Gabriel Gomez who ultimately lost to Democrat Ed Markey by 10 percentage points.)', u'1 donor, giving $350,000 during the first half of the year.', u'Additionally, New York City Mayor Michael Bloomberg, an independent, and the Texas-based law firm of Democratic mega-donors Steve and Amber Mostyn, each donated $250,000 to Americans for Responsible Solutions.', u'Ahead of the 2012 election, Benioff bundled more than $500,000 for Obama\\u2019s re-election efforts, and this spring, he visited the White House three times, records show.', u'All the while, the late GOP mega-donor Bob Perry \\u2014 the Houston homebuilder who died in April \\u2014 continued to fuel conservative super PACs at the dawn of 2013.']\n"
     ]
    }
   ],
   "source": [
    "print summarize(text_string.decode('utf-8'), 5)"
   ]
  },
  {
   "cell_type": "markdown",
   "metadata": {},
   "source": [
    "### Results:\n",
    "The summaries don't seem very informative to understanding the article. For news paper articles, focus on headline and subheadline might work better than this method. "
   ]
  },
  {
   "cell_type": "markdown",
   "metadata": {},
   "source": [
    "### Wrap in a function\n",
    "Input: a txt file\n",
    "Output a list of summaries"
   ]
  },
  {
   "cell_type": "code",
   "execution_count": 100,
   "metadata": {
    "collapsed": true
   },
   "outputs": [],
   "source": [
    "def text_summary(txt_file, encode = 'utf-8', number = 3):\n",
    "    text = open(txt_file, 'rw')\n",
    "    text_string = text.read().decode(encode)\n",
    "    \n",
    "    return summarize(text_string, number)\n",
    "    "
   ]
  },
  {
   "cell_type": "code",
   "execution_count": 101,
   "metadata": {
    "collapsed": false
   },
   "outputs": [
    {
     "data": {
      "text/plain": [
       "[u'(It spent $1.4 million on advertisements opposing Republican Gabriel Gomez who ultimately lost to Democrat Ed Markey by 10 percentage points.)',\n",
       " u'1 donor, giving $350,000 during the first half of the year.',\n",
       " u'Additionally, New York City Mayor Michael Bloomberg, an independent, and the Texas-based law firm of Democratic mega-donors Steve and Amber Mostyn, each donated $250,000 to Americans for Responsible Solutions.']"
      ]
     },
     "execution_count": 101,
     "metadata": {},
     "output_type": "execute_result"
    }
   ],
   "source": [
    "text_summary('public_int_test.txt')"
   ]
  },
  {
   "cell_type": "markdown",
   "metadata": {},
   "source": [
    "### Try out different articles"
   ]
  },
  {
   "cell_type": "code",
   "execution_count": 102,
   "metadata": {
    "collapsed": false,
    "scrolled": true
   },
   "outputs": [
    {
     "data": {
      "text/plain": [
       "[u'A number of the families are tied to networks of ideological donors who, on the left and the right alike, have sought to fundamentally reshape their own political parties.',\n",
       " u'According to the Pew Research Center, nearly seven in 10 favor preserving Social Security and Medicare benefits as they are.',\n",
       " u'Across a sprawling country, they reside in an archipelago of wealth, exclusive neighborhoods dotting a handful of cities and towns.',\n",
       " u'And in an economy that has minted billionaires in a dizzying array of industries, most made their fortunes in just two: finance and energy.',\n",
       " u'And while the shale boom has generated new fortunes, it has also produced a glut of oil that is now driving down prices.']"
      ]
     },
     "execution_count": 102,
     "metadata": {},
     "output_type": "execute_result"
    }
   ],
   "source": [
    "text_summary('nyt_rich_donor.txt', number = 5)"
   ]
  },
  {
   "cell_type": "markdown",
   "metadata": {},
   "source": [
    "This one is not too bad. Better than the previous one. "
   ]
  },
  {
   "cell_type": "code",
   "execution_count": 119,
   "metadata": {
    "collapsed": false
   },
   "outputs": [],
   "source": [
    "apple = text_summary('apple-cook-letter-fbi.txt', number = 5)\n"
   ]
  },
  {
   "cell_type": "code",
   "execution_count": 120,
   "metadata": {
    "collapsed": false,
    "scrolled": true
   },
   "outputs": [
    {
     "name": "stdout",
     "output_type": "stream",
     "text": [
      "A Dangerous Precedent\n",
      "Rather than asking for legislative action through Congress, the FBI is proposing an unprecedented use of the All Writs Act of 1789 to justify an expansion of its authority.\n",
      "-----\n",
      "All that information needs to be protected from hackers and criminals who want to access it, steal it, and use it without our knowledge or permission.\n",
      "-----\n",
      "And ultimately, we fear that this demand would undermine the very freedoms and liberty our government is meant to protect.\n",
      "-----\n",
      "And while the government may argue that its use would be limited to this case, there is no way to guarantee such control.\n",
      "-----\n",
      "Apple complies with valid subpoenas and search warrants, as we have in the San Bernardino case.\n",
      "-----\n"
     ]
    }
   ],
   "source": [
    "for sen in apple: \n",
    "    print sen\n",
    "    print \"-\"*5\n"
   ]
  },
  {
   "cell_type": "code",
   "execution_count": 112,
   "metadata": {
    "collapsed": false
   },
   "outputs": [
    {
     "data": {
      "text/plain": [
       "[u'A Dangerous Precedent\\nRather than asking for legislative action through Congress, the FBI is proposing an unprecedented use of the All Writs Act of 1789 to justify an expansion of its authority.',\n",
       " u'All that information needs to be protected from hackers and criminals who want to access it, steal it, and use it without our knowledge or permission.',\n",
       " u'And ultimately, we fear that this demand would undermine the very freedoms and liberty our government is meant to protect.',\n",
       " u'And while the government may argue that its use would be limited to this case, there is no way to guarantee such control.',\n",
       " u'Answers to your questions about privacy and security\\n\\nThe Need for Encryption\\nSmartphones, led by iPhone, have become an essential part of our lives.']"
      ]
     },
     "execution_count": 112,
     "metadata": {},
     "output_type": "execute_result"
    }
   ],
   "source": []
  },
  {
   "cell_type": "code",
   "execution_count": null,
   "metadata": {
    "collapsed": true
   },
   "outputs": [],
   "source": []
  }
 ],
 "metadata": {
  "kernelspec": {
   "display_name": "Python 2",
   "language": "python",
   "name": "python2"
  },
  "language_info": {
   "codemirror_mode": {
    "name": "ipython",
    "version": 2
   },
   "file_extension": ".py",
   "mimetype": "text/x-python",
   "name": "python",
   "nbconvert_exporter": "python",
   "pygments_lexer": "ipython2",
   "version": "2.7.10"
  }
 },
 "nbformat": 4,
 "nbformat_minor": 0
}
