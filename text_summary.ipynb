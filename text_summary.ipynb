{
 "cells": [
  {
   "cell_type": "markdown",
   "metadata": {},
   "source": [
    "### Introduction \n",
    "This is a text summary implementation in python. \n",
    "I am writing a function text_summary to obtain summary of an article.\n",
    "\n",
    "I am following the video given by Matt Gallivan.\n",
    "Sources: https://www.youtube.com/watch?v=wM2RBih6Cm0\n",
    "\n",
    "The two text files are here\n",
    "1. https://s3-us-west-1.amazonaws.com/lehmanlife/public_int_test.txt\n",
    "2. https://s3-us-west-1.amazonaws.com/lehmanlife/nyt_rich_donor.txt\n"
   ]
  },
  {
   "cell_type": "markdown",
   "metadata": {},
   "source": [
    "### Setup "
   ]
  },
  {
   "cell_type": "code",
   "execution_count": 72,
   "metadata": {
    "collapsed": false
   },
   "outputs": [
    {
     "name": "stdout",
     "output_type": "stream",
     "text": [
      "Requirement already satisfied (use --upgrade to upgrade): nltk in /home/robin/anaconda/lib/python2.7/site-packages\n"
     ]
    }
   ],
   "source": [
    "%%sh\n",
    "pip install nltk"
   ]
  },
  {
   "cell_type": "code",
   "execution_count": 73,
   "metadata": {
    "collapsed": true
   },
   "outputs": [],
   "source": [
    "# nltk.download('punkt')\n",
    "\n",
    "from nltk.tokenize import sent_tokenize\n",
    "import nltk\n",
    "import re\n",
    "from math import log\n"
   ]
  },
  {
   "cell_type": "markdown",
   "metadata": {},
   "source": [
    "### Read text file\n",
    "Good review on how to read txt file. "
   ]
  },
  {
   "cell_type": "code",
   "execution_count": 74,
   "metadata": {
    "collapsed": false
   },
   "outputs": [
    {
     "name": "stdout",
     "output_type": "stream",
     "text": [
      "<open file 'public_int_test.txt', mode 'rw' at 0x7fa920847540>\n"
     ]
    }
   ],
   "source": [
    "text = open('public_int_test.txt', 'rw')\n",
    "\n",
    "print text\n"
   ]
  },
  {
   "cell_type": "code",
   "execution_count": 75,
   "metadata": {
    "collapsed": false
   },
   "outputs": [
    {
     "name": "stdout",
     "output_type": "stream",
     "text": [
      "Democrats seize super PAC crown\n",
      "Liberal groups outraise conservative counterparts 2-to-1 during first half of 2013\n",
      "\n",
      "Correction, Sept. 6, 2013, 4:28 p.m.: The historical comparison of receipts for conservative and liberal super PACs has been amended since this story first published after an error was discovered in the data provided to the Center by the Federal Election Commission.\n",
      "\n",
      "Democrats have become the kings of super PACs.\n",
      "\n",
      "With Congress fighting over gun legislation and immigration, and 2014 midterm races already simmering, many left-leaning donors are eagerly bankrolling these free-spending groups that the party faithful have often criticized for unleashing unlimited money into political races.\n",
      "\n",
      "Liberal-aligned super PACs combined to raise more than $40 million during the first half of 2013, according to a Center for Public Integrity review of filings submitted to the Federal Election Commission.\n",
      "\n",
      "Their conservative counterparts, meanwhile, collectively raised about $20 million.\n",
      "\n",
      "That’s a stark contrast with 2011 and 2012, when Republicans rapidly deployed the nascent organizations following the U.S. Supreme Court’s 2010 Citizens United v. Federal Election Commission ruling that led to their creation.\n",
      "\n",
      "During the first six months of 2011, for example, conservative super PACs outraised their liberal rivals more than 2-to-1, according to a Center for Public Integrity review of FEC data.\n",
      "\n",
      "And during the same period last year, when Republicans, unlike Democrats, engaged in a heated presidential primary battle, GOP-aligned super PACs outraised liberal ones nearly 3-to-1.\n",
      "\n",
      "But with President Barack Obama last year offering his tacit approval of big-dollar political giving, Democrats have quickly closed the fundraising gap by embracing super PACs, which may raise and spend unlimited amounts of money to promote or attack politicians.\n",
      "\n",
      "“Despite ideological opposition to super PAC spending, I don’t see Democrats wanting to play on an uneven playing field,” said Jessica Levinson, a professor at Loyola Law School in California. “This is the political reality.”\n",
      "\n",
      "Twenty super PACs raised more than $2 million during the first half of 2013, federal records show, and 13 of them are generally aligned with Democrats. In fact, the top six are all liberal groups.\n",
      "\n",
      "Leading the way was the Americans for Responsible Solutions PAC, a group launched by former Democratic Rep. Gabby Giffords of Arizona and her husband, Mark Kelly, to support stricter gun control laws. Her super PAC brought in more than $6.6 million between January 1 and the end of June.\n",
      "\n",
      "Billionaire Marc Benioff, the founder and chief executive officer of Salesforce.com, ranked as Giffords’ super PAC’s top donor, giving $500,000. Ahead of the 2012 election, Benioff bundled more than $500,000 for Obama’s re-election efforts, and this spring, he visited the White House three times, records show.\n",
      "\n",
      "Additionally, New York City Mayor Michael Bloomberg, an independent, and the Texas-based law firm of Democratic mega-donors Steve and Amber Mostyn, each donated $250,000 to Americans for Responsible Solutions. Steve Mostyn serves as the group’s treasurer.\n",
      "\n",
      "Unions, Texas trial lawyers spread funds to Democrats\n",
      "\n",
      "The next six super PACs with the largest fundraising hauls so far in 2013 include a super PAC affiliated with the Democratic Governors Association, three groups focused on expanding the ranks of Democratic lawmakers in the U.S. House of Representatives and U.S. Senate and a union-funded operation.\n",
      "\n",
      "DGA Action, which supports Democratic gubernatorial candidates, raised $4.2 million through the end of June. The bulk of that funding — $3.6 million — came from the DGA itself. Another $150,000 came from the National Education Association.\n",
      "\n",
      "Ranking third in receipts so far this year is the union-funded Workers’ Voice super PAC, which raised $3.8 million from January through June. That includes $1.8 million from the AFL-CIO; $1 million from the American Federation of State, County and Municipal Employees (AFSCME); and $500,000 from UNITE HERE, which primarily represents workers in the hotel, gaming, food service, manufacturing, laundry and airport industries.\n",
      "\n",
      "This year, those three unions also touted a pathway for citizenship for undocumented immigrants — a theme that the super PAC also advanced.\n",
      "\n",
      "“American workers deserve a commonsense immigration process that includes a road map to citizenship,” Michael Podhorzer, political director at the AFL-CIO, wrote in an e-mail on behalf of the Workers’ Voice super PAC earlier this year.\n",
      "\n",
      "“Eleven million citizens in waiting will remember who stood up for them, and who gave in to fear,” he continued. “And soon, they’ll take that memory with them to ballot boxes across the country.”\n",
      "\n",
      "Meanwhile, Democrat-backing House Majority PAC collected roughly $3.4 million; sister organization Senate Majority PAC collected $3 million; and American Bridge 21st Century, which specializes in opposition research to aid Democrats, collected $2.9 million.\n",
      "\n",
      "\n",
      "\n",
      "One union alone accounted for nearly one-quarter of the Senate Majority PAC’s 2013 receipts. That was the Massachusetts Teachers Association, which provided $700,000 to the super PAC that was extremely active in the June 25 special election to fill former Democratic Sen. John Kerry’s seat. (It spent $1.4 million on advertisements opposing Republican Gabriel Gomez who ultimately lost to Democrat Ed Markey by 10 percentage points.)\n",
      "\n",
      "Senate Majority PAC also received $250,000 a piece from AFSCME, the union-aligned group Working for Working Americans, California developer George Marcus and Priorities USA Action, the super PAC started in 2012 by former White House aides to support Obama’s re-election — which itself is still sitting on $3.4 million.\n",
      "\n",
      "Notably, Marcus also donated $250,000 to House Majority PAC, ranking him among the top donors to that group, and the Mostyns’ law firm gave it $100,000.\n",
      "\n",
      "But hedge fund manager Donald Sussman — founder and chairman of Paloma Partners and the husband of Rep. Chellie Pingree, D-Maine — earned the distinction of being that super PAC’s No. 1 donor, giving $350,000 during the first half of the year.\n",
      "\n",
      "Anne Getty Earhart, granddaughter of industrialist J. Paul Getty, ranked as American Bridge’s top super PAC, giving $400,000.\n",
      "\n",
      "Another top donor to the group was former Hillary Clinton bundler Susie Tompkins Buell, co-founder of the Esprit clothing company, who gave $150,000.\n",
      "\n",
      "Buell is also a founding member of the Ready for Hillary’s national finance council, along with trial lawyers Steve and Amber Mostyn. The super PAC promoting a potential Clinton 2016 presidential bid has raised nearly $1.3 million so far this year.\n",
      "\n",
      "Currently, Democrats hold a narrow edge over Republicans in the U.S. Senate, but defending that advantage will bring many tough campaigns in 2014 — from Alaska to North Carolina.\n",
      "\n",
      "GOP groups expect enthusiastic donors\n",
      "\n",
      "With several major conservative bankrollers still showing an appetite for giving big money to super PACs, many GOP leaders remain hopeful about their fortunes in the 2014 midterm elections.\n",
      "\n",
      "So far this year, Republican donors filled the coffers of groups that have supported both establishment favorites and candidates who regularly push the party further to the right on many issues.\n",
      "\n",
      "For instance, both the super PAC of the Club for Growth and Senate Conservatives Action — which has ties to former GOP Sen. Jim DeMint of South Carolina, who now heads the Heritage Foundation — raised sizable sums during the first half of 2013.\n",
      "\n",
      "Senate Conservatives Action raised $1.3 million, while Club for Growth Action raised $950,000. And the Tea Party Patriots Citizens Fund collected nearly $2.1 million — with more than 80 percent of that sum coming from individual donors giving $200 or less.\n",
      "\n",
      "Launched in January, the Tea Party Patriots Citizens Fund is “dedicated to supporting those candidates who will sincerely work to rein in out-of-control government,” according to its website. An online straw poll currently touts GOP politicians including Sens. Rand Paul, R-Ky.; Ted Cruz, R-Texas; and Marco Rubio, R-Fla., as potential 2016 presidential prospects.\n",
      "\n",
      "All the while, the late GOP mega-donor Bob Perry — the Houston homebuilder who died in April — continued to fuel conservative super PACs at the dawn of 2013.\n",
      "\n",
      "Records indicate that Perry contributed $3.1 million split among three groups: Texans for a Conservative Majority ($2 million); Senate Conservatives Action ($1 million) and Kentuckians for Strong Leadership ($100,000), which amended its FEC filing late Wednesday to clarify that Perry did not give from beyond the grave.\n",
      "\n",
      "For its part, Texans for a Conservative Majority — which raised $2.2 million overall — was registered earlier this year by Texas lobbyist Randy Cubriel, who did not respond to a message seeking comment about his group’s 2014 plans. And Kentuckians for Strong Leadership — which raised $1.2 million — is supporting the re-election of Senate Minority Leader Mitch McConnell, R-Ky.\n",
      "\n",
      "Likewise, American Crossroads, the behemoth co-founded in 2010 by GOP strategists Karl Rove and Ed Gillespie, raised $1.9 million during the first half of 2013, with large corporate contributions coming from Texas billionaire Harold Simmons’ Contran Corp. (at $1 million) and Oklahoma-based Rooney Holdings ($150,000).\n",
      "\n",
      "Jonathan Collegio, the spokesman of American Crossroads, predicted that “enthusiasm about the opportunity to win control of the Senate as well as the paramount need to defend our House majority” would fuel additional donations during the 2014 election cycle.\n",
      "\n",
      "“We have yet to make any hard fundraising requests this year,” he added. “We expect our activity in 2014 will be similar to past cycles.”\n",
      "\n",
      "\n"
     ]
    }
   ],
   "source": [
    "text_string = text.read()\n",
    "print text_string"
   ]
  },
  {
   "cell_type": "markdown",
   "metadata": {},
   "source": [
    "\n",
    "Looks like I was able to read in the text file fine.\n"
   ]
  },
  {
   "cell_type": "markdown",
   "metadata": {},
   "source": []
  },
  {
   "cell_type": "markdown",
   "metadata": {},
   "source": [
    "### 1. Break Text into pieces by each sentence "
   ]
  },
  {
   "cell_type": "code",
   "execution_count": 76,
   "metadata": {
    "collapsed": false
   },
   "outputs": [],
   "source": [
    "def sentences(text):\n",
    "    return sent_tokenize(text)\n",
    "sent = sentences(text_string.decode('utf-8'))"
   ]
  },
  {
   "cell_type": "markdown",
   "metadata": {},
   "source": [
    "#### Encoding matters\n",
    "I had trouble when running sent_tokenize, because of decoding issue. I had to specify utf-8."
   ]
  },
  {
   "cell_type": "markdown",
   "metadata": {},
   "source": [
    "The sent object is a list of sentences. I think a sentence is defined when there's a period, question mark or exclamation mark."
   ]
  },
  {
   "cell_type": "code",
   "execution_count": 77,
   "metadata": {
    "collapsed": false
   },
   "outputs": [
    {
     "name": "stdout",
     "output_type": "stream",
     "text": [
      "<type 'list'>\n",
      "Democrats seize super PAC crown\n",
      "Liberal groups outraise conservative counterparts 2-to-1 during first half of 2013\n",
      "\n",
      "Correction, Sept. 6, 2013, 4:28 p.m.: The historical comparison of receipts for conservative and liberal super PACs has been amended since this story first published after an error was discovered in the data provided to the Center by the Federal Election Commission.\n",
      "----------\n",
      "Democrats have become the kings of super PACs.\n"
     ]
    }
   ],
   "source": [
    "print type(sent)\n",
    "print sent[0]\n",
    "print \"-\"*10\n",
    "print sent[1]"
   ]
  },
  {
   "cell_type": "markdown",
   "metadata": {},
   "source": [
    "Some problem with sent_tokenize is that it does not recognize headline and subheadline as distinct sentences. This should be a concern later on. \n"
   ]
  },
  {
   "cell_type": "markdown",
   "metadata": {},
   "source": [
    "### 2. Connect these pieces in a graph\n",
    "\n",
    "Our goal is to construct a directed graph. Each sentence will be a node. The intensity of links is determined by the similarity of two sentences. The similarity measurement is obtained by counting the number of common words, then normalized by length of the sentences. "
   ]
  },
  {
   "cell_type": "code",
   "execution_count": 78,
   "metadata": {
    "collapsed": false
   },
   "outputs": [
    {
     "data": {
      "text/plain": [
       "(u'Democrats seize super PAC crown\\nLiberal groups outraise conservative counterparts 2-to-1 during first half of 2013\\n\\nCorrection, Sept. 6, 2013, 4:28 p.m.: The historical comparison of receipts for conservative and liberal super PACs has been amended since this story first published after an error was discovered in the data provided to the Center by the Federal Election Commission.',\n",
       " u'Democrats have become the kings of super PACs.',\n",
       " 0.9766417300203694)"
      ]
     },
     "execution_count": 78,
     "metadata": {},
     "output_type": "execute_result"
    }
   ],
   "source": [
    "def common_words(s1, s2):\n",
    "    '''return common words between two sentences'''\n",
    "    '''reference: http://stackoverflow.com/questions/16351744/finding-the-common-words-between-two-text-corpus-in-nltk'''\n",
    "    words1 = s1.lower().split()\n",
    "    words2 = s2.lower().split()\n",
    "    \n",
    "    intersection = set(words1) & set(words2)\n",
    "    return intersection\n",
    "\n",
    "def similarity(s1, s2):\n",
    "    '''return the amount of similarity between two sentences/pieces'''\n",
    "    words1 = s1.lower().split()\n",
    "    words2 = s2.lower().split()\n",
    " \n",
    "    return( len(common_words(s1, s2)) / \n",
    "          (log(len(words1) + log(len(words2) ))))\n",
    "\n",
    "def link(nodes):\n",
    "    '''Return a list of edges connecting the nodes, where the edges are given a \n",
    "    weight based on their similarity'''\n",
    "    return [(start, end, similarity(start, end))\n",
    "                         for start in nodes\n",
    "                         for end in nodes\n",
    "                         if start is not end]\n",
    "\n",
    "edge_link = link(sent)\n",
    "edge_link[0]"
   ]
  },
  {
   "cell_type": "markdown",
   "metadata": {},
   "source": [
    "Looks good!"
   ]
  },
  {
   "cell_type": "markdown",
   "metadata": {},
   "source": [
    "### 3. Rank importance for these links\n",
    "We will use page rank method to find the most important node. We will use *networkx* library to implement this. "
   ]
  },
  {
   "cell_type": "code",
   "execution_count": 79,
   "metadata": {
    "collapsed": false
   },
   "outputs": [
    {
     "name": "stdout",
     "output_type": "stream",
     "text": [
      "Requirement already satisfied (use --upgrade to upgrade): networkx in /home/robin/anaconda/lib/python2.7/site-packages\n"
     ]
    }
   ],
   "source": [
    "%%sh\n",
    "pip install networkx"
   ]
  },
  {
   "cell_type": "code",
   "execution_count": 80,
   "metadata": {
    "collapsed": true
   },
   "outputs": [],
   "source": [
    "import networkx as nx\n",
    "\n",
    "def rank(nodes, edges):\n",
    "    '''return a dictornary containing the scores for each node'''\n",
    "    graph = nx.DiGraph()\n",
    "    graph.add_nodes_from(nodes)\n",
    "    graph.add_weighted_edges_from(edges)\n",
    "    return nx.pagerank(graph)\n",
    "\n",
    "def summarize(text, num_summaries = 3):\n",
    "    '''Create small summaries of a larger text.'''\n",
    "    nodes = sentences(text)\n",
    "    edges = link(nodes)\n",
    "    scores = rank(nodes, edges)\n",
    "    return sorted(scores)[:num_summaries]\n"
   ]
  },
  {
   "cell_type": "code",
   "execution_count": 81,
   "metadata": {
    "collapsed": false
   },
   "outputs": [
    {
     "name": "stdout",
     "output_type": "stream",
     "text": [
      "[u'(It spent $1.4 million on advertisements opposing Republican Gabriel Gomez who ultimately lost to Democrat Ed Markey by 10 percentage points.)', u'1 donor, giving $350,000 during the first half of the year.', u'Additionally, New York City Mayor Michael Bloomberg, an independent, and the Texas-based law firm of Democratic mega-donors Steve and Amber Mostyn, each donated $250,000 to Americans for Responsible Solutions.', u'Ahead of the 2012 election, Benioff bundled more than $500,000 for Obama\\u2019s re-election efforts, and this spring, he visited the White House three times, records show.', u'All the while, the late GOP mega-donor Bob Perry \\u2014 the Houston homebuilder who died in April \\u2014 continued to fuel conservative super PACs at the dawn of 2013.']\n"
     ]
    }
   ],
   "source": [
    "print summarize(text_string.decode('utf-8'), 5)"
   ]
  },
  {
   "cell_type": "markdown",
   "metadata": {},
   "source": [
    "### Results:\n",
    "The summaries don't seem very informative to understanding the article. For news paper articles, focus on headline and subheadline might work better than this method. "
   ]
  },
  {
   "cell_type": "markdown",
   "metadata": {},
   "source": [
    "### Wrap in a function\n",
    "Input: a txt file\n",
    "Output a list of summaries"
   ]
  },
  {
   "cell_type": "code",
   "execution_count": 87,
   "metadata": {
    "collapsed": true
   },
   "outputs": [],
   "source": [
    "def text_summary(txt_file, encode = 'utf-8', number = 3):\n",
    "    text = open(txt_file, 'rw')\n",
    "    text_string = text.read().decode(encode)\n",
    "    \n",
    "    return summarize(text_string, number)\n",
    "    "
   ]
  },
  {
   "cell_type": "code",
   "execution_count": 88,
   "metadata": {
    "collapsed": false
   },
   "outputs": [
    {
     "data": {
      "text/plain": [
       "[u'(It spent $1.4 million on advertisements opposing Republican Gabriel Gomez who ultimately lost to Democrat Ed Markey by 10 percentage points.)',\n",
       " u'1 donor, giving $350,000 during the first half of the year.',\n",
       " u'Additionally, New York City Mayor Michael Bloomberg, an independent, and the Texas-based law firm of Democratic mega-donors Steve and Amber Mostyn, each donated $250,000 to Americans for Responsible Solutions.']"
      ]
     },
     "execution_count": 88,
     "metadata": {},
     "output_type": "execute_result"
    }
   ],
   "source": [
    "text_summary('public_int_test.txt')"
   ]
  },
  {
   "cell_type": "markdown",
   "metadata": {},
   "source": [
    "### Try out different articles"
   ]
  },
  {
   "cell_type": "code",
   "execution_count": 89,
   "metadata": {
    "collapsed": false,
    "scrolled": true
   },
   "outputs": [
    {
     "data": {
      "text/plain": [
       "[u'A number of the families are tied to networks of ideological donors who, on the left and the right alike, have sought to fundamentally reshape their own political parties.',\n",
       " u'According to the Pew Research Center, nearly seven in 10 favor preserving Social Security and Medicare benefits as they are.',\n",
       " u'Across a sprawling country, they reside in an archipelago of wealth, exclusive neighborhoods dotting a handful of cities and towns.',\n",
       " u'And in an economy that has minted billionaires in a dizzying array of industries, most made their fortunes in just two: finance and energy.',\n",
       " u'And while the shale boom has generated new fortunes, it has also produced a glut of oil that is now driving down prices.']"
      ]
     },
     "execution_count": 89,
     "metadata": {},
     "output_type": "execute_result"
    }
   ],
   "source": [
    "text_summary('nyt_rich_donor.txt', number = 5)"
   ]
  },
  {
   "cell_type": "markdown",
   "metadata": {},
   "source": [
    "This one is not too bad. Better than the previous one. "
   ]
  },
  {
   "cell_type": "code",
   "execution_count": null,
   "metadata": {
    "collapsed": true
   },
   "outputs": [],
   "source": []
  }
 ],
 "metadata": {
  "kernelspec": {
   "display_name": "Python 2",
   "language": "python",
   "name": "python2"
  },
  "language_info": {
   "codemirror_mode": {
    "name": "ipython",
    "version": 2
   },
   "file_extension": ".py",
   "mimetype": "text/x-python",
   "name": "python",
   "nbconvert_exporter": "python",
   "pygments_lexer": "ipython2",
   "version": "2.7.10"
  }
 },
 "nbformat": 4,
 "nbformat_minor": 0
}
